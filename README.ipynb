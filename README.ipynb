{
 "cells": [
  {
   "cell_type": "markdown",
   "metadata": {},
   "source": [
    "# README\n",
    "\n",
    "Simple analysis notebooks for collected causality data. 为每个因果推断数据集合做一个简单的 data analysis."
   ]
  },
  {
   "cell_type": "markdown",
   "metadata": {},
   "source": [
    "# awesome-causality-data\n",
    "An index of datasets that can be used for learning causality. \n",
    "\n",
    "Please cite our survey if this data index helps your research.\n",
    "\n",
    "@article{guo2018survey,</br>\n",
    "  title={A Survey of Learning Causality with Data: Problems and Methods},</br>\n",
    "  author={Guo, Ruocheng and Cheng, Lu and Li, Jundong and Hahn, P. Richard and Liu, Huan}, </br>\n",
    "  journal={arXiv preprint arXiv:1809.09337}, </br>\n",
    "  year={2018}</br>\n",
    "}\n",
    "\n",
    "*Updates coming soon* "
   ]
  },
  {
   "cell_type": "markdown",
   "metadata": {},
   "source": [
    "## Datasets for Learning Causal Effects (Causal Inference)\n",
    "### With Back-door Criterion\n",
    "\n",
    "#### Standard Datasets for Causal Inference\n",
    "Standard datasets for learning causal effects comes with each instance in the format of (**x**,d,y).\n",
    "\n",
    "[IHDP1](https://github.com/AMLab-Amsterdam/CEVAE/tree/master/datasets/IHDP)\n",
    "\n",
    "[How is IHDP1 (setting A) simulated](https://github.com/vdorie/npci/tree/master/examples/ihdp_sim)\n",
    "\n",
    "[IHDP2](https://math.la.asu.edu/~prhahn/)\n",
    "\n",
    "[Twins](https://github.com/AMLab-Amsterdam/CEVAE/tree/master/datasets/TWINS)\n",
    "\n",
    "[Job Training](http://users.nber.org/~rdehejia/data/nswdata2.html) (Lalonde 1986)\n",
    "\n",
    "[ACIC Benchmark](https://github.com/vdorie/aciccomp/tree/master/2016)\n",
    "\n",
    "#### Non-i.i.d. Datasets for Causal Inference\n",
    "\n",
    "[Amazon](https://drive.google.com/drive/u/1/folders/1Ff_GdfjhrDFbZiRW0z81lGJW-cUrYmo1)\n",
    "\n",
    "### Without Back-door Criterion\n",
    "#### Datasets with instrumental Variables (IV)\n",
    "Standard datasets for learning causal effects, each instance has the format of (i,**x**,d,y).\n",
    "\n",
    "[1980 Census Extract](https://economics.mit.edu/faculty/angrist/data1/data/angkru95)\n",
    "\n",
    "[CPS Extract](https://economics.mit.edu/faculty/angrist/data1/data/angkru95)\n",
    "\n",
    "#### Datasets for Regression Discontinuity Design\n",
    "\n",
    "[Population Threshold RDD Datasets](https://dataverse.harvard.edu/dataset.xhtml?persistentId=doi:10.7910/DVN/PGXO5O)"
   ]
  },
  {
   "cell_type": "markdown",
   "metadata": {},
   "source": [
    "## Datasets for Learning Causal Relationships (Causal Discovery)\n",
    "\n",
    "#### Distinguishing Cause from Effect\n",
    "[Database with cause-effect pairs](http://webdav.tuebingen.mpg.de/cause-effect/)"
   ]
  },
  {
   "cell_type": "markdown",
   "metadata": {},
   "source": [
    "## Datasets for Connections to Machine Learning\n",
    "### Datasets with randomized test set for recommendation systems\n",
    "|Name|Paper|URL|\n",
    "|---|---|---|\n",
    "|Coat|Schnabel, Tobias, Adith Swaminathan, Ashudeep Singh, Navin Chandak, and Thorsten Joachims. \"Recommendations as treatments: Debiasing learning and evaluation.\" arXiv preprint arXiv:1602.05352 (2016).|[download](http://www.cs.cornell.edu/~schnabts/mnar/index.html)|\n",
    "|Yahoo! R3|   |[download](https://webscope.sandbox.yahoo.com/catalog.php?datatype=r)|"
   ]
  },
  {
   "cell_type": "code",
   "execution_count": 4,
   "metadata": {},
   "outputs": [
    {
     "data": {
      "text/plain": [
       "'Standard_Datasets_for_Causal_Inference'"
      ]
     },
     "execution_count": 4,
     "metadata": {},
     "output_type": "execute_result"
    }
   ],
   "source": [
    "'Standard Datasets for Causal Inference'.replace(' ', '_')"
   ]
  },
  {
   "cell_type": "code",
   "execution_count": 7,
   "metadata": {},
   "outputs": [],
   "source": [
    "!rm Standard_Datasets_for_Causal_Inference.ipynb"
   ]
  },
  {
   "cell_type": "code",
   "execution_count": null,
   "metadata": {},
   "outputs": [],
   "source": []
  }
 ],
 "metadata": {
  "kernelspec": {
   "display_name": "Python 3",
   "language": "python",
   "name": "python3"
  },
  "language_info": {
   "codemirror_mode": {
    "name": "ipython",
    "version": 3
   },
   "file_extension": ".py",
   "mimetype": "text/x-python",
   "name": "python",
   "nbconvert_exporter": "python",
   "pygments_lexer": "ipython3",
   "version": "3.6.7"
  },
  "toc-autonumbering": true,
  "toc-showcode": false,
  "toc-showmarkdowntxt": true
 },
 "nbformat": 4,
 "nbformat_minor": 2
}
