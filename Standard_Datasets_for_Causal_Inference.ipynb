{
 "cells": [
  {
   "cell_type": "markdown",
   "metadata": {},
   "source": [
    "#### Standard Datasets for Causal Inference\n",
    "\n",
    "Standard datasets for learning causal effects comes with each instance in the format of $(X, d, y)$.\n",
    "\n",
    "[IHDP1](https://github.com/AMLab-Amsterdam/CEVAE/tree/master/datasets/IHDP)\n",
    "\n",
    "[How is IHDP1 (setting A) simulated](https://github.com/vdorie/npci/tree/master/examples/ihdp_sim)\n",
    "\n",
    "[IHDP2](https://math.la.asu.edu/~prhahn/)\n",
    "\n",
    "[Twins](https://github.com/AMLab-Amsterdam/CEVAE/tree/master/datasets/TWINS)\n",
    "\n",
    "[Job Training](http://users.nber.org/~rdehejia/data/nswdata2.html) (Lalonde 1986)\n",
    "\n",
    "[ACIC Benchmark](https://github.com/vdorie/aciccomp/tree/master/2016)\n",
    "\n"
   ]
  },
  {
   "cell_type": "markdown",
   "metadata": {},
   "source": []
  }
 ],
 "metadata": {
  "kernelspec": {
   "display_name": "Python 3",
   "language": "python",
   "name": "python3"
  },
  "language_info": {
   "codemirror_mode": {
    "name": "ipython",
    "version": 3
   },
   "file_extension": ".py",
   "mimetype": "text/x-python",
   "name": "python",
   "nbconvert_exporter": "python",
   "pygments_lexer": "ipython3",
   "version": "3.6.7"
  }
 },
 "nbformat": 4,
 "nbformat_minor": 2
}
